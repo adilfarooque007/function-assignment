{
  "nbformat": 4,
  "nbformat_minor": 0,
  "metadata": {
    "colab": {
      "provenance": []
    },
    "kernelspec": {
      "name": "python3",
      "display_name": "Python 3"
    },
    "language_info": {
      "name": "python"
    }
  },
  "cells": [
    {
      "cell_type": "markdown",
      "source": [
        "Function Assignment"
      ],
      "metadata": {
        "id": "UW3T-80jCiHG"
      }
    },
    {
      "cell_type": "markdown",
      "source": [
        "Q1.  What is the difference between a function and a method in Python ?\n",
        "\n",
        "  -  A function is a block of code that performs a specific task and is defined\n",
        "  outside of a class. A method is a function that is associated with an object (usually a class) and operates on its data.\n",
        "  # Function\n",
        "def greet(name):\n",
        "    return f\"Hello, {name}!\"\n",
        "\n",
        "print(greet(\"Alice\"))\n",
        "\n",
        "# Method\n",
        "class Person:\n",
        "    def __init__(self, name):\n",
        "        self.name = name\n",
        "    \n",
        "    def greet(self):\n",
        "        return f\"Hello, {self.name}!\"\n",
        "\n",
        "person = Person(\"Bob\")\n",
        "print(person.greet())\n",
        "\n",
        "greet() is a function.\n",
        "greet() inside Person is a method.\n",
        "\n",
        "Q2. Explain the concept of function arguments and parameters in Python.\n",
        "\n",
        "  - In Python, parameters are variables that are defined in the function definition, while arguments are the actual values you pass to the function when calling it.\n",
        "\n",
        "  Parameter: It's like a placeholder in the function definition.\n",
        "  Argument: It's the actual value you provide when calling the function.  \n",
        "\n",
        "  # Function definition with a parameter 'name'\n",
        "  def greet(name):  # 'name' is a parameter\n",
        "    print(f\"Hello, {name}!\")\n",
        "\n",
        "  # Function call with an argument 'Alice'\n",
        "  greet(\"Alice\")  # \"Alice\" is the argument\n",
        "\n",
        "  In the above example, name is the parameter.\n",
        "  \"Alice\" is the argument passed to the function.\n",
        "\n",
        "Q3. What are the different ways to define and call a function in Python ?\n",
        "\n",
        "  - In Python, there are several ways to define and call functions. Here's a breakdown of the different methods:\n",
        "\n",
        "  1. Basic Function Definition and Call\n",
        "  Define: Use def followed by the function name and parameters (if any).\n",
        "  Call: Use the function name followed by parentheses\n",
        "  \n",
        "  def greet():\n",
        "    print(\"Hello, World!\")\n",
        "\n",
        "  greet()  # Calling the function\n",
        "  2. Function with Parameters\n",
        "  Define: You can define a function that accepts parameters.\n",
        "  Call: Pass the actual values (arguments) when calling the function.\n",
        "  Example:\n",
        "\n",
        "  python\n",
        "  Copy code\n",
        "  def greet(name):\n",
        "    print(f\"Hello, {name}!\")\n",
        "\n",
        "  greet(\"Alice\")  # Calling the function with an argument\n",
        "  3. Function with Return Values\n",
        "  Define: A function can return a value using the return keyword.\n",
        "  Call: Capture the returned value when calling the function.\n",
        "  Example:\n",
        "\n",
        "  python\n",
        "  Copy code\n",
        "  def add(a, b):\n",
        "    return a + b\n",
        "\n",
        "  result = add(3, 4)  # Calling the function and storing the return value\n",
        "  print(result)       # Output: 7\n",
        "  4. Lambda Function (Anonymous Function)\n",
        "  Define: A short, unnamed function using the lambda keyword.\n",
        "  Call: Use the lambda function directly in your code.\n",
        "  Example:\n",
        "\n",
        "  python\n",
        "  Copy code\n",
        "  square = lambda x: x * x\n",
        "  print(square(5))  # Calling the lambda function\n",
        "  5. Function with Default Arguments\n",
        "  Define: You can set default values for parameters.\n",
        "  Call: You can choose to omit the arguments while calling.\n",
        "  Example:\n",
        "\n",
        "  python\n",
        "  Copy code\n",
        "  def greet(name=\"Guest\"):\n",
        "    print(f\"Hello, {name}!\")\n",
        "\n",
        "  greet()         # Uses default argument \"Guest\"\n",
        "  greet(\"Alice\")  # Passes a custom argument\n",
        "  6. Function with Variable Number of Arguments\n",
        "  Define: Use *args for a variable number of positional arguments or **kwargs for a variable number of keyword arguments.\n",
        "  Call: Pass any number of arguments.\n",
        "  Example:\n",
        "\n",
        "  python\n",
        "  Copy code\n",
        "  def add(*numbers):\n",
        "    return sum(numbers)\n",
        "\n",
        "  print(add(1, 2, 3))  # Calling with multiple arguments\n",
        "\n",
        "  def print_details(**details):\n",
        "    print(details)\n",
        "\n",
        "  print_details(name=\"Alice\", age=30)  # Calling with keyword arguments\n",
        "  7. Function as a Parameter (Passing Functions to Other Functions)\n",
        "  Define: You can pass a function as an argument to another function.\n",
        "  Call: Call the passed function inside the receiving function.\n",
        "  Example:\n",
        "\n",
        "  python\n",
        "  Copy code\n",
        "  def greet(name):\n",
        "    print(f\"Hello, {name}!\")\n",
        "\n",
        "  def call_function(func, name):\n",
        "    func(name)  # Calling the passed function\n",
        "\n",
        "  call_function(greet, \"Bob\")  # Passing 'greet' function as an argument\n",
        "  8. Recursive Function\n",
        "  Define: A function that calls itself to solve a problem.\n",
        "  Call: The function calls itself until a base case is met.\n",
        "  Example:\n",
        "\n",
        "  python\n",
        "  Copy code\n",
        "  def factorial(n):\n",
        "    if n == 0:  # Base case\n",
        "        return 1\n",
        "    else:\n",
        "        return n * factorial(n - 1)  # Recursive call\n",
        "\n",
        "  print(factorial(5))  # Calling the recursive function\n",
        "  These are the main ways to define and call functions in Python, each with its own use cases.\n",
        "\n",
        "Q4. What is the purpose of the `return` statement in a Python function ?\n",
        "\n",
        "  - The return statement in a Python function serves two main purposes:\n",
        "\n",
        "  Returns a Value: It allows the function to send back a result or value to the caller. Once the return statement is executed, the function terminates, and the specified value is returned to wherever the function was called.\n",
        "\n",
        "  Exits the Function: The return statement also ends the function execution, meaning any code after the return won't be executed.\n",
        "\n",
        "  Example:\n",
        "\n",
        "  python\n",
        "  Copy code\n",
        "  def add(a, b):\n",
        "    return a + b  # Returns the sum of a and b\n",
        "\n",
        "  result = add(3, 4)  # Function call\n",
        "  print(result)  # Output: 7\n",
        "  In this example, the return statement sends the sum of a and b back to the caller, which is stored in the result variable.\n",
        "\n",
        "Q5. . What are iterators in Python and how do they differ from iterables ?\n",
        "\n",
        "  - In Python, iterators and iterables are closely related concepts but differ in their roles and behavior.\n",
        "\n",
        "  Iterable:\n",
        "  An iterable is any object in Python that can return an iterator. It is an object that can be looped over (e.g., in a for loop). Examples of iterables include lists, tuples, dictionaries, and strings.\n",
        "\n",
        "  An iterable implements the __iter__() method, which returns an iterator.\n",
        "  Example:\n",
        "\n",
        "  python\n",
        "  Copy code\n",
        "  my_list = [1, 2, 3]\n",
        "  # List is an iterable, you can loop through it\n",
        "  for item in my_list:\n",
        "    print(item)\n",
        "  Iterator:\n",
        "  An iterator is an object that keeps track of the state during iteration and knows how to get the next item from the iterable. An iterator must implement two methods:\n",
        "\n",
        "  __iter__(): Returns the iterator object itself.\n",
        "  __next__(): Returns the next item in the sequence.\n",
        "  An iterator is an object that is created from an iterable.\n",
        "  Example:\n",
        "\n",
        "  python\n",
        "  Copy code\n",
        "  my_list = [1, 2, 3]\n",
        "  iterator = iter(my_list)  # Convert the list into an iterator\n",
        "\n",
        "  # Use next() to access elements\n",
        "  print(next(iterator))  # Output: 1\n",
        "  print(next(iterator))  # Output: 2\n",
        "  print(next(iterator))  # Output: 3\n",
        "  # If you call next() again, it will raise StopIteration\n",
        "  Key Differences:\n",
        "  Iterable: Can be any object that can return an iterator (e.g., list, string).\n",
        "  Iterator: An object that performs the actual iteration, keeping track of its position in the sequence. It can be obtained from an iterable using iter().\n",
        "  In summary, iterables are collections you can loop through, and iterators are objects that perform the iteration, tracking the current position in the collection.\n",
        "\n",
        "Q6. Explain the concept of generators in Python and how they are defined.\n",
        "\n",
        "  - Generators are functions that yield values one at a time, making them memory-efficient and ideal for handling large or infinite sequences.\n",
        "  You define a generator using a function with the yield keyword.\n",
        "  They provide values lazily, meaning values are computed only when needed.\n",
        "\n",
        "Q7.  What are the advantages of using generators over regular functions ?\n",
        "\n",
        "  - Generators have several advantages over regular functions:\n",
        "\n",
        "  .Memory Efficiency: Generators yield values one at a time, so they don't store the entire sequence in memory.\n",
        "  .Lazy Evaluation: Values are produced only when requested, making them ideal for large datasets or infinite sequences.\n",
        "  .State Retention: Generators maintain their state between calls, allowing iteration to continue from where it left off.\n",
        "  .Faster for Large Data: Since values are computed on demand, generators can improve performance when handling large or complex datasets\n",
        "\n",
        "Q8. What is a lambda function in Python and when is it typically used ?\n",
        "\n",
        "  - A lambda function in Python is a small, anonymous function defined using the lambda keyword. It can have any number of arguments but only one expression, which is returned automatically. Lambda functions are often used for short, throwaway functions where defining a full function with def is unnecessary. They are typically used in situations like sorting, filtering, or mapping operations.\n",
        "\n",
        "  Example:\n",
        "\n",
        "  python\n",
        "  Copy code\n",
        "  square = lambda x: x * x\n",
        "  print(square(4))  # Output: 16\n",
        "\n",
        "Q9.  Explain the purpose and usage of the `map()` function in Python.\n",
        "\n",
        "  - The map() function in Python applies a given function to all items in an iterable (like a list) and returns an iterator yielding the results. It allows you to process and transform data efficiently. It is commonly used with lambda functions or predefined functions to perform operations like scaling or formatting on a collection of items.\n",
        "\n",
        "  Example:\n",
        "\n",
        "  python\n",
        "  Copy code\n",
        "  numbers = [1, 2, 3]\n",
        "  squared = map(lambda x: x ** 2, numbers)\n",
        "  print(list(squared))  # Output: [1, 4, 9]\n",
        "\n",
        "Q10. What is the difference between `map()`, `reduce()`, and `filter()` functions in Python ?\n",
        "\n",
        "   - Map() applies a function to all items in an iterable and returns a new iterable with the results.\n",
        "   \n",
        "   Reduce() (from functools) applies a function cumulatively to the items of an iterable, reducing it to a single value.\n",
        "   \n",
        "   Filter() applies a function to all items in an iterable, returning an iterable of items that satisfy a condition (i.e., return True).\n",
        "\n",
        "   Example:\n",
        "\n",
        "  python\n",
        "  Copy code\n",
        "  from functools import reduce\n",
        "\n",
        "  # map() example\n",
        "  map_result = map(lambda x: x * 2, [1, 2, 3])\n",
        "\n",
        "  # reduce() example\n",
        "  reduce_result = reduce(lambda x, y: x + y, [1, 2, 3])\n",
        "\n",
        "  # filter() example\n",
        "  filter_result = filter(lambda x: x % 2 == 0, [1, 2, 3, 4])\n",
        "\n",
        "Q11. Using pen & Paper write the internal mechanism for sum operation using reduce function on this given\n",
        "  list:[47,11,42,13]\n",
        "\n",
        "   - Let's break down how the reduce() function works for the sum operation on the list [47, 11, 42, 13].\n",
        "\n",
        "  We will use reduce() from the functools module, which cumulatively applies a function (in this case, addition) to the items of an iterable.\n",
        "\n",
        "  Step-by-step Process for reduce() with Sum:\n",
        "  Initial List: [47, 11, 42, 13]\n",
        "  Function to apply: lambda x, y: x + y (addition)\n",
        "  Applying the reduce() function:\n",
        "  1st Iteration:\n",
        "  Start with the first two elements: 47 and 11.\n",
        "  Apply the function: 47 + 11 = 58.\n",
        "  2nd Iteration:\n",
        "  Now, use the result (58) and the next element (42).\n",
        "  Apply the function: 58 + 42 = 100.\n",
        "  3rd Iteration:\n",
        "  Use the result (100) and the last element (13).\n",
        "  Apply the function: 100 + 13 = 113.\n",
        "  Final Result:\n",
        "  The result after applying the sum operation to all elements is 113.\n",
        "  Summary of Process:\n",
        "  scss\n",
        "  Copy code\n",
        "  (47 + 11) → 58\n",
        "  (58 + 42) → 100\n",
        "  (100 + 13) → 113\n",
        "  Thus, reduce(lambda x, y: x + y, [47, 11, 42, 13]) results in 113.\n",
        "\n",
        "  This is how the reduce() function performs the sum operation step by step.\n",
        "\n",
        "  "
      ],
      "metadata": {
        "id": "NyYO9c1YDvNE"
      }
    },
    {
      "cell_type": "code",
      "execution_count": 1,
      "metadata": {
        "colab": {
          "base_uri": "https://localhost:8080/"
        },
        "id": "lvzpinHkBcLR",
        "outputId": "27a18b0f-13dd-4982-e48c-7ef4db9a060c"
      },
      "outputs": [
        {
          "output_type": "stream",
          "name": "stdout",
          "text": [
            "60\n"
          ]
        }
      ],
      "source": [
        "# Q1. Write a Python function that takes a list of numbers as input and returns the sum of all even numbers in the list.\n",
        "\n",
        "def sum_of_even_numbers(numbers):\n",
        "    # Use a list comprehension to filter even numbers and sum them\n",
        "    return sum(num for num in numbers if num % 2 == 0)\n",
        "\n",
        "# Example usage:\n",
        "numbers = [47, 11, 42, 13, 8, 10]\n",
        "result = sum_of_even_numbers(numbers)\n",
        "print(result)"
      ]
    },
    {
      "cell_type": "code",
      "source": [
        "# Q2. Create a Python function that accepts a string and returns the reverse of that string.\n",
        "\n",
        "def reverse_string(s):\n",
        "    return s[::-1]\n",
        "\n",
        "# Example usage:\n",
        "input_string = \"Hello, World!\"\n",
        "reversed_string = reverse_string(input_string)\n",
        "print(reversed_string)\n"
      ],
      "metadata": {
        "colab": {
          "base_uri": "https://localhost:8080/"
        },
        "id": "rWSeU6BZNjKK",
        "outputId": "fce11079-baa5-46cf-a032-448a0df628d3"
      },
      "execution_count": 2,
      "outputs": [
        {
          "output_type": "stream",
          "name": "stdout",
          "text": [
            "!dlroW ,olleH\n"
          ]
        }
      ]
    },
    {
      "cell_type": "code",
      "source": [
        "# Q3.  Implement a Python function that takes a list of integers and returns a new list containing the squares of each number.\n",
        "\n",
        "def square_numbers(numbers):\n",
        "    return [num ** 2 for num in numbers]\n",
        "\n",
        "# Example usage:\n",
        "input_list = [1, 2, 3, 4, 5]\n",
        "squared_list = square_numbers(input_list)\n",
        "print(squared_list)"
      ],
      "metadata": {
        "colab": {
          "base_uri": "https://localhost:8080/"
        },
        "id": "IFHiKBd5NjG2",
        "outputId": "1a00e81f-5f14-4773-d685-5af0eecc567a"
      },
      "execution_count": 3,
      "outputs": [
        {
          "output_type": "stream",
          "name": "stdout",
          "text": [
            "[1, 4, 9, 16, 25]\n"
          ]
        }
      ]
    },
    {
      "cell_type": "code",
      "source": [
        "# Q4.  Write a Python function that checks if a given number is prime or not from 1 to 200.\n",
        "\n",
        "def is_prime(num):\n",
        "    if num <= 1:\n",
        "        return False\n",
        "    for i in range(2, int(num ** 0.5) + 1):  # Check divisibility up to the square root of num\n",
        "        if num % i == 0:\n",
        "            return False\n",
        "    return True\n",
        "\n",
        "# Example usage:\n",
        "for number in range(1, 201):\n",
        "    if is_prime(number):\n",
        "        print(number)"
      ],
      "metadata": {
        "colab": {
          "base_uri": "https://localhost:8080/"
        },
        "id": "SobEgHMENjEp",
        "outputId": "4297a0e6-8149-4e64-e2b5-76af65c976a1"
      },
      "execution_count": 4,
      "outputs": [
        {
          "output_type": "stream",
          "name": "stdout",
          "text": [
            "2\n",
            "3\n",
            "5\n",
            "7\n",
            "11\n",
            "13\n",
            "17\n",
            "19\n",
            "23\n",
            "29\n",
            "31\n",
            "37\n",
            "41\n",
            "43\n",
            "47\n",
            "53\n",
            "59\n",
            "61\n",
            "67\n",
            "71\n",
            "73\n",
            "79\n",
            "83\n",
            "89\n",
            "97\n",
            "101\n",
            "103\n",
            "107\n",
            "109\n",
            "113\n",
            "127\n",
            "131\n",
            "137\n",
            "139\n",
            "149\n",
            "151\n",
            "157\n",
            "163\n",
            "167\n",
            "173\n",
            "179\n",
            "181\n",
            "191\n",
            "193\n",
            "197\n",
            "199\n"
          ]
        }
      ]
    },
    {
      "cell_type": "code",
      "source": [
        "# Q5.  Create an iterator class in Python that generates the Fibonacci sequence up to a specified number of terms.\n",
        "\n",
        "class FibonacciIterator:\n",
        "    def __init__(self, n):\n",
        "        self.n = n             # Total number of terms in the sequence\n",
        "        self.a, self.b = 0, 1  # First two numbers in the Fibonacci sequence\n",
        "        self.count = 0         # Keep track of how many terms have been generated\n",
        "\n",
        "    def __iter__(self):\n",
        "        return self            # The iterator object itself\n",
        "\n",
        "    def __next__(self):\n",
        "        if self.count < self.n:\n",
        "            result = self.a\n",
        "            self.a, self.b = self.b, self.a + self.b    # Update to next Fibonacci numbers\n",
        "            self.count += 1\n",
        "            return result\n",
        "        else:\n",
        "            raise StopIteration                         # Stop iteration when n terms are reached\n",
        "\n",
        "# Example usage:\n",
        "fib = FibonacciIterator(10)                             # Create Fibonacci iterator for 10 terms\n",
        "for num in fib:\n",
        "    print(num)"
      ],
      "metadata": {
        "colab": {
          "base_uri": "https://localhost:8080/"
        },
        "id": "nM--ayXfNjAO",
        "outputId": "2356912f-988d-4530-d58b-790cbd841cc0"
      },
      "execution_count": 5,
      "outputs": [
        {
          "output_type": "stream",
          "name": "stdout",
          "text": [
            "0\n",
            "1\n",
            "1\n",
            "2\n",
            "3\n",
            "5\n",
            "8\n",
            "13\n",
            "21\n",
            "34\n"
          ]
        }
      ]
    },
    {
      "cell_type": "code",
      "source": [
        "# Q6. Write a generator function in Python that yields the powers of 2 up to a given exponent.\n",
        "\n",
        "def powers_of_two(exponent):\n",
        "    for i in range(exponent + 1):\n",
        "        yield 2 ** i\n",
        "\n",
        "# Example usage:\n",
        "for power in powers_of_two(5):\n",
        "    print(power)"
      ],
      "metadata": {
        "colab": {
          "base_uri": "https://localhost:8080/"
        },
        "id": "3DVO08EcNi-O",
        "outputId": "d94ee812-b10b-4bb4-c1af-d08469801b7b"
      },
      "execution_count": 6,
      "outputs": [
        {
          "output_type": "stream",
          "name": "stdout",
          "text": [
            "1\n",
            "2\n",
            "4\n",
            "8\n",
            "16\n",
            "32\n"
          ]
        }
      ]
    },
    {
      "cell_type": "code",
      "source": [
        "# Q7. Implement a generator function that reads a file line by line and yields each line as a string.\n",
        "\n",
        "def read_file_line_by_line(filename):\n",
        "    with open(filename, 'r') as file:  # Open the file in read mode\n",
        "        for line in file:  # Iterate through each line in the file\n",
        "            yield line.strip()  # Yield each line after stripping any extra whitespace\n",
        "\n",
        "# Example usage:\n",
        "filename = 'example.txt'  # Replace with the actual file path\n",
        "for line in read_file_line_by_line(filename):\n",
        "    print(line)\n",
        "\n",
        "\n",
        "\n"
      ],
      "metadata": {
        "colab": {
          "base_uri": "https://localhost:8080/",
          "height": 332
        },
        "id": "_3Yq09hgNi8m",
        "outputId": "68bf47f0-1549-4e08-efd7-a88e9edd149b"
      },
      "execution_count": 11,
      "outputs": [
        {
          "output_type": "error",
          "ename": "FileNotFoundError",
          "evalue": "[Errno 2] No such file or directory: 'example.txt'",
          "traceback": [
            "\u001b[0;31m---------------------------------------------------------------------------\u001b[0m",
            "\u001b[0;31mFileNotFoundError\u001b[0m                         Traceback (most recent call last)",
            "\u001b[0;32m<ipython-input-11-3a75949c458c>\u001b[0m in \u001b[0;36m<cell line: 10>\u001b[0;34m()\u001b[0m\n\u001b[1;32m      8\u001b[0m \u001b[0;31m# Example usage:\u001b[0m\u001b[0;34m\u001b[0m\u001b[0;34m\u001b[0m\u001b[0m\n\u001b[1;32m      9\u001b[0m \u001b[0mfilename\u001b[0m \u001b[0;34m=\u001b[0m \u001b[0;34m'example.txt'\u001b[0m  \u001b[0;31m# Replace with the actual file path\u001b[0m\u001b[0;34m\u001b[0m\u001b[0;34m\u001b[0m\u001b[0m\n\u001b[0;32m---> 10\u001b[0;31m \u001b[0;32mfor\u001b[0m \u001b[0mline\u001b[0m \u001b[0;32min\u001b[0m \u001b[0mread_file_line_by_line\u001b[0m\u001b[0;34m(\u001b[0m\u001b[0mfilename\u001b[0m\u001b[0;34m)\u001b[0m\u001b[0;34m:\u001b[0m\u001b[0;34m\u001b[0m\u001b[0;34m\u001b[0m\u001b[0m\n\u001b[0m\u001b[1;32m     11\u001b[0m     \u001b[0mprint\u001b[0m\u001b[0;34m(\u001b[0m\u001b[0mline\u001b[0m\u001b[0;34m)\u001b[0m\u001b[0;34m\u001b[0m\u001b[0;34m\u001b[0m\u001b[0m\n\u001b[1;32m     12\u001b[0m \u001b[0;34m\u001b[0m\u001b[0m\n",
            "\u001b[0;32m<ipython-input-11-3a75949c458c>\u001b[0m in \u001b[0;36mread_file_line_by_line\u001b[0;34m(filename)\u001b[0m\n\u001b[1;32m      2\u001b[0m \u001b[0;34m\u001b[0m\u001b[0m\n\u001b[1;32m      3\u001b[0m \u001b[0;32mdef\u001b[0m \u001b[0mread_file_line_by_line\u001b[0m\u001b[0;34m(\u001b[0m\u001b[0mfilename\u001b[0m\u001b[0;34m)\u001b[0m\u001b[0;34m:\u001b[0m\u001b[0;34m\u001b[0m\u001b[0;34m\u001b[0m\u001b[0m\n\u001b[0;32m----> 4\u001b[0;31m     \u001b[0;32mwith\u001b[0m \u001b[0mopen\u001b[0m\u001b[0;34m(\u001b[0m\u001b[0mfilename\u001b[0m\u001b[0;34m,\u001b[0m \u001b[0;34m'r'\u001b[0m\u001b[0;34m)\u001b[0m \u001b[0;32mas\u001b[0m \u001b[0mfile\u001b[0m\u001b[0;34m:\u001b[0m  \u001b[0;31m# Open the file in read mode\u001b[0m\u001b[0;34m\u001b[0m\u001b[0;34m\u001b[0m\u001b[0m\n\u001b[0m\u001b[1;32m      5\u001b[0m         \u001b[0;32mfor\u001b[0m \u001b[0mline\u001b[0m \u001b[0;32min\u001b[0m \u001b[0mfile\u001b[0m\u001b[0;34m:\u001b[0m  \u001b[0;31m# Iterate through each line in the file\u001b[0m\u001b[0;34m\u001b[0m\u001b[0;34m\u001b[0m\u001b[0m\n\u001b[1;32m      6\u001b[0m             \u001b[0;32myield\u001b[0m \u001b[0mline\u001b[0m\u001b[0;34m.\u001b[0m\u001b[0mstrip\u001b[0m\u001b[0;34m(\u001b[0m\u001b[0;34m)\u001b[0m  \u001b[0;31m# Yield each line after stripping any extra whitespace\u001b[0m\u001b[0;34m\u001b[0m\u001b[0;34m\u001b[0m\u001b[0m\n",
            "\u001b[0;31mFileNotFoundError\u001b[0m: [Errno 2] No such file or directory: 'example.txt'"
          ]
        }
      ]
    },
    {
      "cell_type": "code",
      "source": [
        "# Q8. . Use a lambda function in Python to sort a list of tuples based on the second element of each tuple.\n",
        "\n",
        "tuples_list = [(1, 4), (3, 1), (2, 7), (4, 2)]\n",
        "\n",
        "# Sorting the list based on the second element of each tuple using a lambda function\n",
        "sorted_list = sorted(tuples_list, key=lambda x: x[1])\n",
        "\n",
        "print(sorted_list)"
      ],
      "metadata": {
        "colab": {
          "base_uri": "https://localhost:8080/"
        },
        "id": "GjMorujRNi4z",
        "outputId": "f9dde916-c5ee-4d69-9529-984d32a664d8"
      },
      "execution_count": 12,
      "outputs": [
        {
          "output_type": "stream",
          "name": "stdout",
          "text": [
            "[(3, 1), (4, 2), (1, 4), (2, 7)]\n"
          ]
        }
      ]
    },
    {
      "cell_type": "code",
      "source": [
        "# Q9.  Write a Python program that uses `map()` to convert a list of temperatures from Celsius to Fahrenheit.\n",
        "\n",
        "celsius_temps = [0, 20, 30, 40, 100]\n",
        "\n",
        "# Function to convert Celsius to Fahrenheit\n",
        "def celsius_to_fahrenheit(celsius):\n",
        "    return (celsius * 9/5) + 32\n",
        "\n",
        "# Using map() to apply the conversion function to the list\n",
        "fahrenheit_temps = list(map(celsius_to_fahrenheit, celsius_temps))\n",
        "\n",
        "print(fahrenheit_temps)"
      ],
      "metadata": {
        "colab": {
          "base_uri": "https://localhost:8080/"
        },
        "id": "IAxdDcwpNi0j",
        "outputId": "ec1d5b6f-0516-4c35-c6ba-99718b188bed"
      },
      "execution_count": 13,
      "outputs": [
        {
          "output_type": "stream",
          "name": "stdout",
          "text": [
            "[32.0, 68.0, 86.0, 104.0, 212.0]\n"
          ]
        }
      ]
    },
    {
      "cell_type": "code",
      "source": [
        "# Q10.  Create a Python program that uses `filter()` to remove all the vowels from a given string.\n",
        "\n",
        "def is_not_vowel(char):\n",
        "    return char.lower() not in 'aeiou'\n",
        "\n",
        "# Given string\n",
        "input_string = \"Hello, World!\"\n",
        "\n",
        "# Use filter() to remove vowels\n",
        "filtered_string = ''.join(filter(is_not_vowel, input_string))\n",
        "\n",
        "print(filtered_string)"
      ],
      "metadata": {
        "colab": {
          "base_uri": "https://localhost:8080/"
        },
        "id": "OvnwveKHNivx",
        "outputId": "a7bb86c1-cb0b-4bde-9e29-cea14fd2c3a9"
      },
      "execution_count": 14,
      "outputs": [
        {
          "output_type": "stream",
          "name": "stdout",
          "text": [
            "Hll, Wrld!\n"
          ]
        }
      ]
    },
    {
      "cell_type": "code",
      "source": [
        "# Q11.  Imagine an accounting routine used in a book shop. It works on a list with sublists, which look like this:\n",
        "\"\"\"\n",
        "Write a Python program, which returns a list with 2-tuples. Each tuple consists of the order number and the\n",
        "product of the price per item and the quantity. The product should be increased by 10,- € if the value of the\n",
        "order is smaller than 100,00 €.\n",
        "\n",
        "Write a Python program using lambda and map.\n",
        "\"\"\"\n",
        "\n",
        "orders = [\n",
        "    [1, 15.50, 3],  # Order 1: 15.50 per item, 3 items\n",
        "    [2, 40.00, 2],  # Order 2: 40.00 per item, 2 items\n",
        "    [3, 25.00, 4],  # Order 3: 25.00 per item, 4 items\n",
        "    [4, 120.00, 1]  # Order 4: 120.00 per item, 1 item\n",
        "]\n",
        "\n",
        "# Lambda function to calculate the total value of the order\n",
        "def process_order(order):\n",
        "    order_number, price_per_item, quantity = order\n",
        "    total_price = price_per_item * quantity\n",
        "    if total_price < 100:\n",
        "        total_price += 10  # Add 10 € if the total is less than 100 €\n",
        "    return (order_number, total_price)\n",
        "\n",
        "# Using map() to process each order in the list\n",
        "result = list(map(process_order, orders))\n",
        "\n",
        "print(result)\n",
        "\n"
      ],
      "metadata": {
        "colab": {
          "base_uri": "https://localhost:8080/"
        },
        "id": "Vz-1_K_hNise",
        "outputId": "83757539-7159-44ab-ef64-fc72dcbf2b7c"
      },
      "execution_count": 15,
      "outputs": [
        {
          "output_type": "stream",
          "name": "stdout",
          "text": [
            "[(1, 56.5), (2, 90.0), (3, 100.0), (4, 120.0)]\n"
          ]
        }
      ]
    },
    {
      "cell_type": "code",
      "source": [],
      "metadata": {
        "id": "xVYMSsXrW2NI"
      },
      "execution_count": null,
      "outputs": []
    }
  ]
}